{
 "cells": [
  {
   "cell_type": "markdown",
   "metadata": {},
   "source": [
    "# Lecture 5: Exercise Solutions"
   ]
  },
  {
   "cell_type": "markdown",
   "metadata": {
    "collapsed": true
   },
   "source": [
    "## Exercise 2: Sets\n",
    "\n",
    "Write a function that finds the overlap of two sets and prints them.\n",
    "Initialize two sets, e.g., with values {13, 25, 37, 45, 13} and {14, 25, 38, 8, 45} and call this function with them."
   ]
  },
  {
   "cell_type": "code",
   "execution_count": 1,
   "metadata": {},
   "outputs": [
    {
     "name": "stdout",
     "output_type": "stream",
     "text": [
      "25\n",
      "45\n"
     ]
    }
   ],
   "source": [
    "def overlap(set1,set2):\n",
    "    for item1 in set1:\n",
    "        for item2 in set2:\n",
    "            if item1 == item2:\n",
    "                print(item1)\n",
    "    \n",
    "    \n",
    "set1 = {13, 25, 37, 45, 13}\n",
    "set2 = {14, 25, 38, 8, 45}\n",
    "overlap(set1,set2)"
   ]
  },
  {
   "cell_type": "markdown",
   "metadata": {},
   "source": [
    "## Exercise 3: Dictionaries\n",
    "\n",
    " * Create a dictionary with two-letter codes of two US states and the full names, e.g., UT: Utah, NY: New York\n",
    " * After initially creating the dictionary, add two more states to the dictionary.\n",
    " * Create a second dictionary that maps the state codes to an array of cities in that state, e.g., UT: [Salt Lake City, Ogden, Provo, St.George]. \n",
    " * Write a function that takes a state code and prints the full name of the state and lists the cities in that state."
   ]
  },
  {
   "cell_type": "code",
   "execution_count": 8,
   "metadata": {},
   "outputs": [
    {
     "name": "stdout",
     "output_type": "stream",
     "text": [
      "Texas: ['Houston', 'San Antonio', 'Dallas', 'Fort Worth']\n"
     ]
    }
   ],
   "source": [
    "def full_state_info(state_code):\n",
    "    print(f'{states[state_code]}: {cities[state_code]}')\n",
    "\n",
    "states = dict([('UT', 'Utah'), ('NY', 'New York')])\n",
    "states['NC'] = 'North Carolina'\n",
    "states['TX'] = 'Texas'\n",
    "cities = {'UT':['Salt Lake City', 'Ogden', 'Provo', 'St.George'], 'NY':['New York City', 'Buffalo', 'Rochester', 'Yonkers'], 'NC':['Charlotte', 'Raleigh', 'Greensboro', 'Durham'], 'TX':['Houston', 'San Antonio', 'Dallas', 'Fort Worth']}\n",
    "full_state_info('TX')"
   ]
  },
  {
   "cell_type": "markdown",
   "metadata": {},
   "source": [
    "## Exercise 4: Objects\n",
    "\n",
    "Create a class `Pet` with members `name, pronoun, animal,` and `pet_response`. \n",
    "\n",
    "Add a method `pet()` which prints a response that is composed of the members, like that: \n",
    "\n",
    "`Layla is a cat. If you pet her, Layla purrs.`  \n",
    "`Bond is a dog. If you pet him, Scout wags his tail.`\n"
   ]
  },
  {
   "cell_type": "code",
   "execution_count": 21,
   "metadata": {},
   "outputs": [],
   "source": [
    "class Pet: \n",
    "    def __init__(self, name=\"PetName\", pronoun=\"default\", animal=\"default\", pet_response=\"default\"): # the programmer can set the name and other parts themselves\n",
    "        # an instance varaible, specific to that instance\n",
    "        self.pronoun = pronoun\n",
    "        self.name = name\n",
    "        self.animal = animal\n",
    "        self.pet_response = pet_response\n",
    "    \n",
    "    def pet(self):\n",
    "        print(self.name, \"is a\", self.animal+\". If you pet\", self.pronoun+\",\", self.name, self.pet_response)"
   ]
  },
  {
   "cell_type": "markdown",
   "metadata": {},
   "source": [
    "Here are some example calls: "
   ]
  },
  {
   "cell_type": "code",
   "execution_count": 22,
   "metadata": {},
   "outputs": [
    {
     "name": "stdout",
     "output_type": "stream",
     "text": [
      "Layla is a cat. If you pet her, Layla purrs\n",
      "Bond is a dog. If you pet him, Bond wags his tail\n"
     ]
    }
   ],
   "source": [
    "layla = Pet(\"Layla\", \"her\", \"cat\", \"purrs\")\n",
    "scout = Pet(\"Bond\", \"him\", \"dog\", \"wags his tail\")\n",
    "\n",
    "layla.pet()\n",
    "scout.pet()"
   ]
  },
  {
   "cell_type": "markdown",
   "metadata": {
    "collapsed": true
   },
   "source": [
    "## Exercise 6: Pandas Series"
   ]
  },
  {
   "cell_type": "markdown",
   "metadata": {},
   "source": [
    "Create a new pandas series with the lists given below that contain NFL team names and the number of Super Bowl titles they won. Use the names as indices, the wins as the data.\n",
    "\n",
    " * Once the list is created, sort the series alphabetically by index. \n",
    " * Print an overview of the statistical properties of the series. What's the mean number of wins?\n",
    " * Filter out all teams that have won less than four Super Bowl titles\n",
    " * A football team has 45 players. Update the series so that instead of the number of titles, it reflects the number of Super Bowl rings given to the players. \n",
    " * Assume that each ring costs USD 32,000. Update the series so that it contains a string of the dollar amount including the \\$ sign. For the Steelers, for example, this would correspond to: \n",
    " ```\n",
    " Pittsburgh Steelers             $ 8640000\n",
    " ```\n",
    "\n"
   ]
  },
  {
   "cell_type": "code",
   "execution_count": 41,
   "metadata": {},
   "outputs": [],
   "source": [
    "teams = [\"New England Patriots\",\n",
    "         \"Pittsburgh Steelers\",\n",
    "         \"Dallas Cowboys\",\n",
    "         \"San Francisco 49ers\",\n",
    "         \"Green Bay Packers\",\n",
    "         \"New York Giants\",\n",
    "         \"Denver Broncos\",\n",
    "         \"Oakland/Los Angeles/Las Vegas Raiders\",\n",
    "         \"Washington Commanders\"\n",
    "         \"Miami Dolphins\",\n",
    "         \"Baltimore/Indianapolis Colts\",\n",
    "         \"Baltimore Ravens\",\n",
    "         \"Los Angeles/St. Louis Rams\",\n",
    "         \"Tampa Bay Buccaneers\"]\n",
    "wins = [6,6,5,5,4,4,3,3,3,2,2,2,2]"
   ]
  },
  {
   "cell_type": "code",
   "execution_count": 58,
   "metadata": {},
   "outputs": [
    {
     "name": "stdout",
     "output_type": "stream",
     "text": [
      "New England Patriots                     6\n",
      "Pittsburgh Steelers                      6\n",
      "Dallas Cowboys                           5\n",
      "San Francisco 49ers                      5\n",
      "Green Bay Packers                        4\n",
      "New York Giants                          4\n",
      "Denver Broncos                           3\n",
      "Oakland/Los Angeles/Las Vegas Raiders    3\n",
      "Washington CommandersMiami Dolphins      3\n",
      "Baltimore/Indianapolis Colts             2\n",
      "Baltimore Ravens                         2\n",
      "Los Angeles/St. Louis Rams               2\n",
      "Tampa Bay Buccaneers                     2\n",
      "Name: Superbowls Won, dtype: int64\n",
      "\n",
      "count    13.000000\n",
      "mean      3.615385\n",
      "std       1.502135\n",
      "min       2.000000\n",
      "25%       2.000000\n",
      "50%       3.000000\n",
      "75%       5.000000\n",
      "max       6.000000\n",
      "Name: Superbowls Won, dtype: float64\n",
      "\n",
      "New England Patriots    6\n",
      "Pittsburgh Steelers     6\n",
      "Dallas Cowboys          5\n",
      "San Francisco 49ers     5\n",
      "Name: Superbowls Won, dtype: int64\n",
      "\n",
      "New England Patriots                     270\n",
      "Pittsburgh Steelers                      270\n",
      "Dallas Cowboys                           225\n",
      "San Francisco 49ers                      225\n",
      "Green Bay Packers                        180\n",
      "New York Giants                          180\n",
      "Denver Broncos                           135\n",
      "Oakland/Los Angeles/Las Vegas Raiders    135\n",
      "Washington CommandersMiami Dolphins      135\n",
      "Baltimore/Indianapolis Colts              90\n",
      "Baltimore Ravens                          90\n",
      "Los Angeles/St. Louis Rams                90\n",
      "Tampa Bay Buccaneers                      90\n",
      "Name: Superbowls Won, dtype: int64\n",
      "\n",
      "$ New England Patriots                     8640000\n",
      "Pittsburgh Steelers                      8640000\n",
      "Dallas Cowboys                           7200000\n",
      "San Francisco 49ers                      7200000\n",
      "Green Bay Packers                        5760000\n",
      "New York Giants                          5760000\n",
      "Denver Broncos                           4320000\n",
      "Oakland/Los Angeles/Las Vegas Raiders    4320000\n",
      "Washington CommandersMiami Dolphins      4320000\n",
      "Baltimore/Indianapolis Colts             2880000\n",
      "Baltimore Ravens                         2880000\n",
      "Los Angeles/St. Louis Rams               2880000\n",
      "Tampa Bay Buccaneers                     2880000\n",
      "Name: Superbowls Won, dtype: int64\n"
     ]
    }
   ],
   "source": [
    "import pandas as pd\n",
    "teams_wins = pd.Series(wins, index=teams, name=\"Superbowls Won\") \n",
    "print(teams_wins)\n",
    "print()\n",
    "print(teams_wins.describe()) # mean is 3.615385\n",
    "print()\n",
    "best_teams = teams_wins > 4\n",
    "print(teams_wins[best_teams])\n",
    "print()\n",
    "Super_Bowl_rings = teams_wins * 45\n",
    "print(Super_Bowl_rings)\n",
    "print()\n",
    "ring_costs = teams_wins*45*32000\n",
    "# print(f'$ {ring_costs}') \n",
    "### not quite sure how to get each section converted \n",
    "### into a string and attach a non-numerical section to it"
   ]
  }
 ],
 "metadata": {
  "anaconda-cloud": {},
  "kernelspec": {
   "display_name": "Python 3 (ipykernel)",
   "language": "python",
   "name": "python3"
  },
  "language_info": {
   "codemirror_mode": {
    "name": "ipython",
    "version": 3
   },
   "file_extension": ".py",
   "mimetype": "text/x-python",
   "name": "python",
   "nbconvert_exporter": "python",
   "pygments_lexer": "ipython3",
   "version": "3.11.5"
  }
 },
 "nbformat": 4,
 "nbformat_minor": 1
}
